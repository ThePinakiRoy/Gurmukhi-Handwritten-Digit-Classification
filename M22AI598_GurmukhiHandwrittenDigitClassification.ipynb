{
  "cells": [
    {
      "cell_type": "code",
      "execution_count": null,
      "id": "91eb7d2b",
      "metadata": {
        "id": "91eb7d2b"
      },
      "outputs": [],
      "source": [
        "import cv2\n",
        "import numpy as np\n",
        "import matplotlib.pyplot as plt\n",
        "import tensorflow as tf\n",
        "import os\n",
        "%matplotlib inline\n",
        "import random"
      ]
    },
    {
      "cell_type": "code",
      "source": [
        "np.random_seed(10)"
      ],
      "metadata": {
        "id": "uK2gwy-Bipos"
      },
      "id": "uK2gwy-Bipos",
      "execution_count": null,
      "outputs": []
    },
    {
      "cell_type": "code",
      "execution_count": null,
      "id": "7a84ea4e",
      "metadata": {
        "id": "7a84ea4e"
      },
      "outputs": [],
      "source": [
        "def get_dataset(dir_path):\n",
        "    img_size = (32, 32) #image size for resizing\n",
        "\n",
        "    # Get the list of folder names in the data directory\n",
        "    label_names = os.listdir(dir_data)\n",
        "\n",
        "    # Create an empty list to store the images and labels\n",
        "    data = []\n",
        "    labels = []\n",
        "\n",
        "    # Loop over the folder names\n",
        "    for label_name in label_names:\n",
        "        # Get the path to the folder\n",
        "        label_dir = os.path.join(dir_data, label_name)\n",
        "\n",
        "        # Loop over the files in the folder\n",
        "        for file_name in os.listdir(label_dir):\n",
        "            # Get the path to the file\n",
        "            img_path = os.path.join(label_dir, file_name)\n",
        "\n",
        "            # Load the image and resize it\n",
        "            img = cv2.imread(img_path, cv2.IMREAD_GRAYSCALE)\n",
        "            img = cv2.resize(img, img_size)\n",
        "\n",
        "            # Add the image and label to the data list\n",
        "            data.append(img)\n",
        "            labels.append(int(label_name))\n",
        "\n",
        "    # Convert the data and labels to numpy arrays\n",
        "    data = np.array(data)\n",
        "    labels = np.array(labels)\n",
        "    return data, labels"
      ]
    },
    {
      "cell_type": "code",
      "execution_count": null,
      "id": "b9924651",
      "metadata": {
        "id": "b9924651",
        "outputId": "e7965a87-1ebf-446b-a8e3-a2d8dfa38a0b"
      },
      "outputs": [
        {
          "name": "stdout",
          "output_type": "stream",
          "text": [
            "Data shape: (1000, 32, 32)\n",
            "Labels shape: (1000,)\n"
          ]
        }
      ],
      "source": [
        "# Path to the directory containing the image folders for train datasets\n",
        "dir_data = \"./digits_img/train\"\n",
        "\n",
        "X_train, y_train = get_dataset(dir_data)\n",
        "\n",
        "# Print the shape of the data and labels\n",
        "print(\"Data shape:\", X_train.shape)\n",
        "print(\"Labels shape:\", y_train.shape)"
      ]
    },
    {
      "cell_type": "code",
      "execution_count": null,
      "id": "345f43f0",
      "metadata": {
        "id": "345f43f0",
        "outputId": "91c9b969-aa6b-429c-c3b3-35e4e22c36e8"
      },
      "outputs": [
        {
          "name": "stdout",
          "output_type": "stream",
          "text": [
            "Data shape: (178, 32, 32)\n",
            "Labels shape: (178,)\n"
          ]
        }
      ],
      "source": [
        "# Path to the directory containing the image folders for test(val) datasets\n",
        "dir_data = \"./digits_img/val\"\n",
        "\n",
        "X_test, y_test = get_dataset(dir_data)\n",
        "\n",
        "# Print the shape of the data and labels\n",
        "print(\"Data shape:\", X_test.shape)\n",
        "print(\"Labels shape:\", y_test.shape)"
      ]
    },
    {
      "cell_type": "code",
      "execution_count": null,
      "id": "9d425f4a",
      "metadata": {
        "id": "9d425f4a",
        "outputId": "ca79d08d-def9-4cae-a4c8-7bc217602126"
      },
      "outputs": [
        {
          "data": {
            "image/png": "[encoded data removed]",
            "text/plain": [
              "<Figure size 432x288 with 1 Axes>"
            ]
          },
          "metadata": {
            "needs_background": "light"
          },
          "output_type": "display_data"
        },
        {
          "data": {
            "image/png": "[encoded data removed]",
            "text/plain": [
              "<Figure size 432x288 with 1 Axes>"
            ]
          },
          "metadata": {
            "needs_background": "light"
          },
          "output_type": "display_data"
        },
        {
          "data": {
            "image/png": "[encoded data removed]",
            "text/plain": [
              "<Figure size 432x288 with 1 Axes>"
            ]
          },
          "metadata": {
            "needs_background": "light"
          },
          "output_type": "display_data"
        },
        {
          "data": {
            "image/png": "[encoded data removed]",
            "text/plain": [
              "<Figure size 432x288 with 1 Axes>"
            ]
          },
          "metadata": {
            "needs_background": "light"
          },
          "output_type": "display_data"
        }
      ],
      "source": [
        "# plot the digits\n",
        "# Define the number of images to show\n",
        "num_images = 4\n",
        "# Loop over the images\n",
        "for i in range(num_images):\n",
        "    # Get the current image\n",
        "    img = random.choice(X_train)\n",
        "    \n",
        "    # Show the image with the corresponding label as the title\n",
        "    plt.imshow(img)\n",
        "    plt.show();"
      ]
    },
    {
      "cell_type": "code",
      "execution_count": null,
      "id": "2bb62ad2",
      "metadata": {
        "id": "2bb62ad2"
      },
      "outputs": [],
      "source": [
        "# Normalize data\n",
        "X_train = tf.keras.utils.normalize(X_train, axis=1)\n",
        "X_test = tf.keras.utils.normalize(X_test, axis=1)"
      ]
    },
    {
      "cell_type": "code",
      "execution_count": null,
      "id": "685d547c",
      "metadata": {
        "id": "685d547c",
        "outputId": "768cffdc-cc3d-4891-98da-640b1726e84f"
      },
      "outputs": [
        {
          "data": {
            "text/plain": [
              "0"
            ]
          },
          "execution_count": 215,
          "metadata": {},
          "output_type": "execute_result"
        }
      ],
      "source": [
        "y_train[0]"
      ]
    },
    {
      "cell_type": "code",
      "execution_count": null,
      "id": "013783dd",
      "metadata": {
        "id": "013783dd"
      },
      "outputs": [],
      "source": [
        "# creating model\n",
        "model = tf.keras.models.Sequential()"
      ]
    },
    {
      "cell_type": "code",
      "execution_count": null,
      "id": "87443a11",
      "metadata": {
        "id": "87443a11"
      },
      "outputs": [],
      "source": [
        "model.add(tf.keras.layers.Flatten(input_shape=(32,32)))\n",
        "model.add(tf.keras.layers.Dense(178, activation='relu'))\n",
        "model.add(tf.keras.layers.Dense(10, input_shape = (178,), activation='sigmoid'))"
      ]
    },
    {
      "cell_type": "code",
      "execution_count": null,
      "id": "0f89f0fa",
      "metadata": {
        "id": "0f89f0fa"
      },
      "outputs": [],
      "source": [
        "# complie the model \n",
        "model.compile(optimizer='adam',loss='sparse_categorical_crossentropy', metrics=['accuracy'])"
      ]
    },
    {
      "cell_type": "code",
      "execution_count": null,
      "id": "2ac4cf91",
      "metadata": {
        "id": "2ac4cf91",
        "outputId": "b094b11d-3aca-4a48-f5f0-9d9f635c953e"
      },
      "outputs": [
        {
          "name": "stdout",
          "output_type": "stream",
          "text": [
            "Epoch 1/10\n",
            "32/32 [==============================] - 1s 8ms/step - loss: 1.4923 - accuracy: 0.6750\n",
            "Epoch 2/10\n",
            "32/32 [==============================] - 0s 7ms/step - loss: 0.5162 - accuracy: 0.9210\n",
            "Epoch 3/10\n",
            "32/32 [==============================] - 0s 8ms/step - loss: 0.2905 - accuracy: 0.9450\n",
            "Epoch 4/10\n",
            "32/32 [==============================] - 0s 7ms/step - loss: 0.2178 - accuracy: 0.9590\n",
            "Epoch 5/10\n",
            "32/32 [==============================] - 0s 8ms/step - loss: 0.1661 - accuracy: 0.9680\n",
            "Epoch 6/10\n",
            "32/32 [==============================] - 0s 10ms/step - loss: 0.1342 - accuracy: 0.9770\n",
            "Epoch 7/10\n",
            "32/32 [==============================] - 0s 8ms/step - loss: 0.1117 - accuracy: 0.9820\n",
            "Epoch 8/10\n",
            "32/32 [==============================] - 0s 8ms/step - loss: 0.0902 - accuracy: 0.9880\n",
            "Epoch 9/10\n",
            "32/32 [==============================] - 0s 7ms/step - loss: 0.0811 - accuracy: 0.9860\n",
            "Epoch 10/10\n",
            "32/32 [==============================] - 0s 7ms/step - loss: 0.0680 - accuracy: 0.9900\n"
          ]
        },
        {
          "data": {
            "text/plain": [
              "<keras.callbacks.History at 0x15795f7e4a0>"
            ]
          },
          "execution_count": 229,
          "metadata": {},
          "output_type": "execute_result"
        }
      ],
      "source": [
        "# fit the model\n",
        "model.fit(X_train, y_train, epochs=10)"
      ]
    },
    {
      "cell_type": "code",
      "execution_count": null,
      "id": "9ef81343",
      "metadata": {
        "id": "9ef81343",
        "outputId": "8437b10a-0ed4-44d6-b9bc-fbe8a3df6a4a"
      },
      "outputs": [
        {
          "name": "stdout",
          "output_type": "stream",
          "text": [
            "6/6 [==============================] - 0s 4ms/step - loss: 0.2426 - accuracy: 0.9438\n"
          ]
        }
      ],
      "source": [
        "loss, accuracy = model.evaluate(X_test, y_test) "
      ]
    },
    {
      "cell_type": "code",
      "execution_count": null,
      "id": "3757f6a2",
      "metadata": {
        "id": "3757f6a2",
        "outputId": "b4cdf699-8522-4340-cd79-9c3fa6754199"
      },
      "outputs": [
        {
          "name": "stderr",
          "output_type": "stream",
          "text": [
            "WARNING:absl:Found untraced functions such as _update_step_xla while saving (showing 1 of 1). These functions will not be directly callable after loading.\n"
          ]
        },
        {
          "name": "stdout",
          "output_type": "stream",
          "text": [
            "INFO:tensorflow:Assets written to: gurnukhi-handwritten\\assets\n"
          ]
        },
        {
          "name": "stderr",
          "output_type": "stream",
          "text": [
            "INFO:tensorflow:Assets written to: gurnukhi-handwritten\\assets\n"
          ]
        }
      ],
      "source": [
        "model.save('gurnukhi-handwritten')"
      ]
    },
    {
      "cell_type": "code",
      "execution_count": null,
      "id": "891fe3ff",
      "metadata": {
        "id": "891fe3ff"
      },
      "outputs": [],
      "source": [
        "model = tf.keras.models.load_model('gurnukhi-handwritten')"
      ]
    },
    {
      "cell_type": "code",
      "execution_count": null,
      "id": "a383aa62",
      "metadata": {
        "id": "a383aa62",
        "outputId": "d7fa22f3-a9f8-429e-cd3c-fa94677b568f"
      },
      "outputs": [
        {
          "name": "stdout",
          "output_type": "stream",
          "text": [
            "6/6 [==============================] - 0s 4ms/step - loss: 0.2426 - accuracy: 0.9438\n"
          ]
        }
      ],
      "source": [
        "loss, accuracy = model.evaluate(X_test, y_test)"
      ]
    },
    {
      "cell_type": "code",
      "execution_count": null,
      "id": "f9ee26a2",
      "metadata": {
        "id": "f9ee26a2",
        "outputId": "a76fc1d2-8270-4043-dc5f-33a4e5ca0d16"
      },
      "outputs": [
        {
          "name": "stdout",
          "output_type": "stream",
          "text": [
            "0.24255214631557465\n",
            "0.9438202381134033\n"
          ]
        }
      ],
      "source": [
        "print(loss)\n",
        "print(accuracy)"
      ]
    },
    {
      "cell_type": "code",
      "execution_count": null,
      "id": "00cae3d7",
      "metadata": {
        "id": "00cae3d7",
        "outputId": "db171ea2-4b71-4048-c2d0-0a9381fecd8c"
      },
      "outputs": [
        {
          "name": "stdout",
          "output_type": "stream",
          "text": [
            "6/6 [==============================] - 0s 15ms/step\n"
          ]
        }
      ],
      "source": [
        "y_predict = model.predict(X_test)"
      ]
    },
    {
      "cell_type": "code",
      "execution_count": null,
      "id": "15fc1feb",
      "metadata": {
        "id": "15fc1feb",
        "outputId": "ad694e19-a813-4ab7-856f-e1177a600261"
      },
      "outputs": [
        {
          "data": {
            "text/plain": [
              "array([0.95194596, 0.41089448, 0.26753327, 0.13980487, 0.26337457,\n",
              "       0.34492972, 0.09599872, 0.2671435 , 0.5459239 , 0.2161597 ],\n",
              "      dtype=float32)"
            ]
          },
          "execution_count": 212,
          "metadata": {},
          "output_type": "execute_result"
        }
      ],
      "source": [
        "y_predict[0]"
      ]
    },
    {
      "cell_type": "code",
      "execution_count": null,
      "id": "58a19cd8",
      "metadata": {
        "id": "58a19cd8",
        "outputId": "c7955379-0eb7-45de-c26b-c99ace3c0710"
      },
      "outputs": [
        {
          "data": {
            "text/plain": [
              "0"
            ]
          },
          "execution_count": 187,
          "metadata": {},
          "output_type": "execute_result"
        }
      ],
      "source": [
        "np.argmax(y_predict[0]) # correct prediction"
      ]
    },
    {
      "cell_type": "code",
      "execution_count": null,
      "id": "7cea0a20",
      "metadata": {
        "id": "7cea0a20",
        "outputId": "72c70cf9-427a-47ba-9a79-83472b8ba58e"
      },
      "outputs": [
        {
          "name": "stdout",
          "output_type": "stream",
          "text": [
            "For test label 0, predicted value is 0\n"
          ]
        },
        {
          "data": {
            "image/png": "[encoded data removed]",
            "text/plain": [
              "<Figure size 432x288 with 1 Axes>"
            ]
          },
          "metadata": {
            "needs_background": "light"
          },
          "output_type": "display_data"
        },
        {
          "name": "stdout",
          "output_type": "stream",
          "text": [
            "------------------------------------------------------------------------------------------\n",
            "For test label 4, predicted value is 3\n"
          ]
        },
        {
          "data": {
            "image/png": "[encoded data removed]",
            "text/plain": [
              "<Figure size 432x288 with 1 Axes>"
            ]
          },
          "metadata": {
            "needs_background": "light"
          },
          "output_type": "display_data"
        },
        {
          "name": "stdout",
          "output_type": "stream",
          "text": [
            "------------------------------------------------------------------------------------------\n",
            "For test label 6, predicted value is 6\n"
          ]
        },
        {
          "data": {
            "image/png": "[encoded data removed]",
            "text/plain": [
              "<Figure size 432x288 with 1 Axes>"
            ]
          },
          "metadata": {
            "needs_background": "light"
          },
          "output_type": "display_data"
        },
        {
          "name": "stdout",
          "output_type": "stream",
          "text": [
            "------------------------------------------------------------------------------------------\n",
            "For test label 0, predicted value is 0\n"
          ]
        },
        {
          "data": {
            "image/png": "[encoded data removed]",
            "text/plain": [
              "<Figure size 432x288 with 1 Axes>"
            ]
          },
          "metadata": {
            "needs_background": "light"
          },
          "output_type": "display_data"
        },
        {
          "name": "stdout",
          "output_type": "stream",
          "text": [
            "------------------------------------------------------------------------------------------\n",
            "For test label 8, predicted value is 8\n"
          ]
        },
        {
          "data": {
            "image/png": "[encoded data removed]",
            "text/plain": [
              "<Figure size 432x288 with 1 Axes>"
            ]
          },
          "metadata": {
            "needs_background": "light"
          },
          "output_type": "display_data"
        },
        {
          "name": "stdout",
          "output_type": "stream",
          "text": [
            "------------------------------------------------------------------------------------------\n",
            "For test label 6, predicted value is 6\n"
          ]
        },
        {
          "data": {
            "image/png": "[encoded data removed]",
            "text/plain": [
              "<Figure size 432x288 with 1 Axes>"
            ]
          },
          "metadata": {
            "needs_background": "light"
          },
          "output_type": "display_data"
        },
        {
          "name": "stdout",
          "output_type": "stream",
          "text": [
            "------------------------------------------------------------------------------------------\n",
            "For test label 0, predicted value is 0\n"
          ]
        },
        {
          "data": {
            "image/png": "[encoded data removed]",
            "text/plain": [
              "<Figure size 432x288 with 1 Axes>"
            ]
          },
          "metadata": {
            "needs_background": "light"
          },
          "output_type": "display_data"
        },
        {
          "name": "stdout",
          "output_type": "stream",
          "text": [
            "------------------------------------------------------------------------------------------\n",
            "For test label 9, predicted value is 9\n"
          ]
        },
        {
          "data": {
            "image/png": "[encoded data removed]",
            "text/plain": [
              "<Figure size 432x288 with 1 Axes>"
            ]
          },
          "metadata": {
            "needs_background": "light"
          },
          "output_type": "display_data"
        },
        {
          "name": "stdout",
          "output_type": "stream",
          "text": [
            "------------------------------------------------------------------------------------------\n",
            "For test label 6, predicted value is 6\n"
          ]
        },
        {
          "data": {
            "image/png": "[encoded data removed]",
            "text/plain": [
              "<Figure size 432x288 with 1 Axes>"
            ]
          },
          "metadata": {
            "needs_background": "light"
          },
          "output_type": "display_data"
        },
        {
          "name": "stdout",
          "output_type": "stream",
          "text": [
            "------------------------------------------------------------------------------------------\n",
            "For test label 2, predicted value is 2\n"
          ]
        },
        {
          "data": {
            "image/png": "[encoded data removed]",
            "text/plain": [
              "<Figure size 432x288 with 1 Axes>"
            ]
          },
          "metadata": {
            "needs_background": "light"
          },
          "output_type": "display_data"
        },
        {
          "name": "stdout",
          "output_type": "stream",
          "text": [
            "------------------------------------------------------------------------------------------\n"
          ]
        }
      ],
      "source": [
        "# lets predict some random images\n",
        "\n",
        "for i in range(10):\n",
        "    # Get a random index of the list\n",
        "    random_index = random.randint(0, len(y_predict) - 1)\n",
        "    print(f\"For test label {y_test[random_index]}, predicted value is {np.argmax(y_predict[random_index])}\")\n",
        "    img = X_test[random_index]\n",
        "    plt.imshow(img)\n",
        "    plt.show();\n",
        "    print(\"--\"*45)\n"
      ]
    },
    {
      "cell_type": "code",
      "execution_count": null,
      "id": "92ffbf46",
      "metadata": {
        "id": "92ffbf46",
        "outputId": "5fccc330-1bd7-480b-ef1d-e2b9b6a55966"
      },
      "outputs": [
        {
          "data": {
            "text/plain": [
              "[0, 0, 0, 0, 0, 0]"
            ]
          },
          "execution_count": 237,
          "metadata": {},
          "output_type": "execute_result"
        }
      ],
      "source": [
        "y_predicted_labels = [np.argmax(i) for i in y_predict]\n",
        "y_predicted_labels[:6]"
      ]
    },
    {
      "cell_type": "code",
      "execution_count": null,
      "id": "c6c0aac2",
      "metadata": {
        "id": "c6c0aac2",
        "outputId": "ae5c0485-57cd-4bd6-c836-46857d7138e5"
      },
      "outputs": [
        {
          "data": {
            "text/plain": [
              "array([0, 0, 0, 0, 0, 0])"
            ]
          },
          "execution_count": 201,
          "metadata": {},
          "output_type": "execute_result"
        }
      ],
      "source": [
        "y_test[:6]"
      ]
    },
    {
      "cell_type": "code",
      "execution_count": null,
      "id": "6ef7c180",
      "metadata": {
        "id": "6ef7c180",
        "outputId": "cbe4e655-4444-4235-9922-5c78051704a2"
      },
      "outputs": [
        {
          "data": {
            "text/plain": [
              "<tf.Tensor: shape=(10, 10), dtype=int32, numpy=\n",
              "array([[18,  0,  0,  0,  0,  0,  0,  0,  0,  0],\n",
              "       [ 0, 11,  0,  0,  0,  0,  0,  5,  0,  0],\n",
              "       [ 0,  0, 15,  0,  1,  0,  0,  0,  0,  1],\n",
              "       [ 0,  0,  0, 17,  0,  0,  0,  0,  0,  0],\n",
              "       [ 0,  0,  0,  1, 17,  0,  0,  0,  0,  0],\n",
              "       [ 0,  0,  0,  0,  0, 18,  0,  0,  0,  0],\n",
              "       [ 0,  0,  0,  0,  0,  0, 18,  0,  0,  0],\n",
              "       [ 0,  2,  0,  0,  0,  0,  0, 16,  0,  0],\n",
              "       [ 0,  0,  0,  0,  0,  0,  0,  0, 18,  0],\n",
              "       [ 0,  0,  0,  0,  0,  0,  0,  0,  0, 20]])>"
            ]
          },
          "execution_count": 238,
          "metadata": {},
          "output_type": "execute_result"
        }
      ],
      "source": [
        "# Confusion Matrix\n",
        "conf_mat = tf.math.confusion_matrix(labels=y_test, predictions=y_predicted_labels)\n",
        "conf_mat"
      ]
    },
    {
      "cell_type": "code",
      "execution_count": null,
      "id": "83af682f",
      "metadata": {
        "id": "83af682f",
        "outputId": "31d8993c-fc0a-4b44-e895-e4072ab4a941"
      },
      "outputs": [
        {
          "data": {
            "image/png": "[encoded data removed]",
            "text/plain": [
              "<Figure size 864x360 with 2 Axes>"
            ]
          },
          "metadata": {
            "needs_background": "light"
          },
          "output_type": "display_data"
        }
      ],
      "source": [
        "import seaborn as sn\n",
        "plt.figure(figsize = (12,5))\n",
        "sn.heatmap(conf_mat, annot = True, fmt ='d')\n",
        "plt.xlabel('Predicted')\n",
        "plt.ylabel('Truth');"
      ]
    },
    {
      "cell_type": "code",
      "execution_count": null,
      "id": "503d6253",
      "metadata": {
        "id": "503d6253"
      },
      "outputs": [],
      "source": []
    }
  ],
  "metadata": {
    "kernelspec": {
      "display_name": "Python 3 (ipykernel)",
      "language": "python",
      "name": "python3"
    },
    "language_info": {
      "codemirror_mode": {
        "name": "ipython",
        "version": 3
      },
      "file_extension": ".py",
      "mimetype": "text/x-python",
      "name": "python",
      "nbconvert_exporter": "python",
      "pygments_lexer": "ipython3",
      "version": "3.10.6"
    },
    "colab": {
      "provenance": []
    }
  },
  "nbformat": 4,
  "nbformat_minor": 5
}